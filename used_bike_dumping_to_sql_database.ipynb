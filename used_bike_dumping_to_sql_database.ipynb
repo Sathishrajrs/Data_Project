{
  "nbformat": 4,
  "nbformat_minor": 0,
  "metadata": {
    "colab": {
      "provenance": [],
      "authorship_tag": "ABX9TyPmlZsd3vjErdZ1/zDAGvi7",
      "include_colab_link": true
    },
    "kernelspec": {
      "name": "python3",
      "display_name": "Python 3"
    },
    "language_info": {
      "name": "python"
    }
  },
  "cells": [
    {
      "cell_type": "markdown",
      "metadata": {
        "id": "view-in-github",
        "colab_type": "text"
      },
      "source": [
        "<a href=\"https://colab.research.google.com/github/Sathishrajrs/Data_Project/blob/main/used_bike_dumping_to_sql_database.ipynb\" target=\"_parent\"><img src=\"https://colab.research.google.com/assets/colab-badge.svg\" alt=\"Open In Colab\"/></a>"
      ]
    },
    {
      "cell_type": "code",
      "execution_count": null,
      "metadata": {
        "colab": {
          "base_uri": "https://localhost:8080/"
        },
        "id": "wrMpiVRAMR8N",
        "outputId": "7ca05e1b-5bcc-4fd4-c993-60532da5a227"
      },
      "outputs": [
        {
          "output_type": "stream",
          "name": "stdout",
          "text": [
            "Collecting pymysql\n",
            "  Downloading PyMySQL-1.1.0-py3-none-any.whl (44 kB)\n",
            "\u001b[?25l     \u001b[90m━━━━━━━━━━━━━━━━━━━━━━━━━━━━━━━━━━━━━━━━\u001b[0m \u001b[32m0.0/44.8 kB\u001b[0m \u001b[31m?\u001b[0m eta \u001b[36m-:--:--\u001b[0m\r\u001b[2K     \u001b[90m━━━━━━━━━━━━━━━━━━━━━━━━━━━━━━━━━━━━━━━━\u001b[0m \u001b[32m44.8/44.8 kB\u001b[0m \u001b[31m1.2 MB/s\u001b[0m eta \u001b[36m0:00:00\u001b[0m\n",
            "\u001b[?25hInstalling collected packages: pymysql\n",
            "Successfully installed pymysql-1.1.0\n"
          ]
        }
      ],
      "source": [
        "import pandas as pd\n",
        "from sqlalchemy import create_engine\n",
        "import numpy as np\n",
        "!pip install pymysql\n",
        "\n",
        "\n",
        "\n",
        "\n"
      ]
    },
    {
      "cell_type": "code",
      "source": [
        "df=pd.read_csv('/content/used_bikes.csv')"
      ],
      "metadata": {
        "id": "eqOGrqpRMn2G"
      },
      "execution_count": null,
      "outputs": []
    },
    {
      "cell_type": "code",
      "source": [
        "print(df.head())"
      ],
      "metadata": {
        "colab": {
          "base_uri": "https://localhost:8080/"
        },
        "id": "XOJIrXZENujz",
        "outputId": "dfffe60b-cd44-4db6-c14a-ede3a1011b81"
      },
      "execution_count": null,
      "outputs": [
        {
          "output_type": "stream",
          "name": "stdout",
          "text": [
            "                              bike_name     price       city  kms_driven  \\\n",
            "0    TVS Star City Plus Dual Tone 110cc   35000.0  Ahmedabad     17654.0   \n",
            "1           Royal Enfield Classic 350cc  119900.0      Delhi     11000.0   \n",
            "2                  Triumph Daytona 675R  600000.0      Delhi       110.0   \n",
            "3                  TVS Apache RTR 180cc   65000.0  Bangalore     16329.0   \n",
            "4  Yamaha FZ S V 2.0 150cc-Ltd. Edition   80000.0  Bangalore     10000.0   \n",
            "\n",
            "         owner  age  power          brand  \n",
            "0  First Owner  3.0  110.0            TVS  \n",
            "1  First Owner  4.0  350.0  Royal Enfield  \n",
            "2  First Owner  8.0  675.0        Triumph  \n",
            "3  First Owner  4.0  180.0            TVS  \n",
            "4  First Owner  3.0  150.0         Yamaha  \n"
          ]
        }
      ]
    },
    {
      "cell_type": "code",
      "source": [
        "dftypes = df.dtypes\n",
        "print(dftypes)"
      ],
      "metadata": {
        "colab": {
          "base_uri": "https://localhost:8080/"
        },
        "id": "07ZSqPp7OBGP",
        "outputId": "ed8b83ce-fc6f-49cd-a95a-b9224fe6fc93"
      },
      "execution_count": null,
      "outputs": [
        {
          "output_type": "stream",
          "name": "stdout",
          "text": [
            "bike_name      object\n",
            "price         float64\n",
            "city           object\n",
            "kms_driven    float64\n",
            "owner          object\n",
            "age           float64\n",
            "power         float64\n",
            "brand          object\n",
            "dtype: object\n"
          ]
        }
      ]
    },
    {
      "cell_type": "code",
      "source": [
        "column_name= df.columns\n",
        "print(column_name)"
      ],
      "metadata": {
        "colab": {
          "base_uri": "https://localhost:8080/"
        },
        "id": "5yLjHdfJO54f",
        "outputId": "9ab3bc7f-f74e-438a-f6a5-b718c7aa4cb1"
      },
      "execution_count": null,
      "outputs": [
        {
          "output_type": "stream",
          "name": "stdout",
          "text": [
            "Index(['bike_name', 'price', 'city', 'kms_driven', 'owner', 'age', 'power',\n",
            "       'brand'],\n",
            "      dtype='object')\n"
          ]
        }
      ]
    },
    {
      "cell_type": "code",
      "source": [
        "before_memory = df.memory_usage().sum()\n",
        "print(f'Memory usage before: {before_memory} bytes')"
      ],
      "metadata": {
        "colab": {
          "base_uri": "https://localhost:8080/"
        },
        "id": "LSMCZhyqPvtZ",
        "outputId": "2a6f0a05-06aa-4cf3-c227-5872ee4965f5"
      },
      "execution_count": null,
      "outputs": [
        {
          "output_type": "stream",
          "name": "stdout",
          "text": [
            "Memory usage before: 9664 bytes\n"
          ]
        }
      ]
    },
    {
      "cell_type": "code",
      "source": [
        "print(\"Memory usage before data type change:\")\n",
        "print(df.memory_usage(deep=True).sum())"
      ],
      "metadata": {
        "colab": {
          "base_uri": "https://localhost:8080/"
        },
        "id": "Ss4CtlLyP2w3",
        "outputId": "ff052c05-3792-431f-f5f4-83bf58b6ee3e"
      },
      "execution_count": null,
      "outputs": [
        {
          "output_type": "stream",
          "name": "stdout",
          "text": [
            "Memory usage before data type change:\n",
            "46057\n"
          ]
        }
      ]
    },
    {
      "cell_type": "code",
      "source": [
        "# Change data types of columns\n",
        "df=df.astype({'price': 'int32','kms_driven': 'float32','age': 'int32','power': 'float32'})\n"
      ],
      "metadata": {
        "id": "9oibauG3Y9Cg"
      },
      "execution_count": null,
      "outputs": []
    },
    {
      "cell_type": "code",
      "source": [
        "# Display memory usage after changing data types\n",
        "print(\"\\nMemory usage after data type change:\")\n",
        "print(df.memory_usage(deep=True).sum())"
      ],
      "metadata": {
        "colab": {
          "base_uri": "https://localhost:8080/"
        },
        "id": "gyaMbZ_GZ-b_",
        "outputId": "d09fb451-d939-4020-f73c-bdd7774a4cb1"
      },
      "execution_count": null,
      "outputs": [
        {
          "output_type": "stream",
          "name": "stdout",
          "text": [
            "\n",
            "Memory usage after data type change:\n",
            "43673\n"
          ]
        }
      ]
    },
    {
      "cell_type": "code",
      "source": [
        "y=[]\n",
        "for i in range(len(df)):\n",
        "  x= tuple(df.iloc[i])\n",
        "  y.append(x)\n",
        "print(y)\n"
      ],
      "metadata": {
        "id": "LbWcCQT6bAoY",
        "colab": {
          "base_uri": "https://localhost:8080/"
        },
        "outputId": "976307c2-c34f-45c3-d3df-a265482e303a"
      },
      "execution_count": null,
      "outputs": [
        {
          "output_type": "stream",
          "name": "stdout",
          "text": [
            "[('TVS Star City Plus Dual Tone 110cc', 35000, 'Ahmedabad', 17654.0, 'First Owner', 3, 110.0, 'TVS'), ('Royal Enfield Classic 350cc', 119900, 'Delhi', 11000.0, 'First Owner', 4, 350.0, 'Royal Enfield'), ('Triumph Daytona 675R', 600000, 'Delhi', 110.0, 'First Owner', 8, 675.0, 'Triumph'), ('TVS Apache RTR 180cc', 65000, 'Bangalore', 16329.0, 'First Owner', 4, 180.0, 'TVS'), ('Yamaha FZ S V 2.0 150cc-Ltd. Edition', 80000, 'Bangalore', 10000.0, 'First Owner', 3, 150.0, 'Yamaha'), ('Yamaha FZs 150cc', 53499, 'Delhi', 25000.0, 'First Owner', 6, 150.0, 'Yamaha'), ('Honda CB Hornet 160R  ABS DLX', 85000, 'Delhi', 8200.0, 'First Owner', 3, 160.0, 'Honda'), ('Hero Splendor Plus Self Alloy 100cc', 45000, 'Delhi', 12645.0, 'First Owner', 3, 100.0, 'Hero'), ('Royal Enfield Thunderbird X 350cc', 145000, 'Bangalore', 9190.0, 'First Owner', 3, 350.0, 'Royal Enfield'), ('Royal Enfield Classic Desert Storm 500cc', 88000, 'Delhi', 19000.0, 'Second Owner', 7, 500.0, 'Royal Enfield'), ('Yamaha YZF-R15 2.0 150cc', 72000, 'Bangalore', 20000.0, 'First Owner', 7, 150.0, 'Yamaha'), ('Yamaha FZ25 250cc', 95000, 'Bangalore', 9665.0, 'First Owner', 4, 250.0, 'Yamaha'), ('Bajaj Pulsar NS200', 78000, 'Bangalore', 9900.0, 'First Owner', 4, 200.0, 'Bajaj'), ('Bajaj Discover 100M', 29499, 'Delhi', 20000.0, 'First Owner', 8, 100.0, 'Bajaj'), ('Bajaj Discover 125M', 29900, 'Delhi', 20000.0, 'First Owner', 7, 125.0, 'Bajaj'), ('Bajaj Pulsar NS200 ABS', 90000, 'Bangalore', 11574.0, 'First Owner', 3, 200.0, 'Bajaj'), ('Bajaj Pulsar RS200 ABS', 120000, 'Bangalore', 23000.0, 'First Owner', 3, 200.0, 'Bajaj'), ('Suzuki Gixxer SF 150cc', 48000, 'Mumbai', 24725.0, 'First Owner', 5, 150.0, 'Suzuki'), ('Benelli 302R 300CC', 240000, 'Mumbai', 15025.0, 'Second Owner', 3, 302.0, 'Benelli'), ('Bajaj Discover 125M', 29900, 'Delhi', 20000.0, 'First Owner', 7, 125.0, 'Bajaj'), ('Bajaj Pulsar RS200 ABS', 120000, 'Bangalore', 23000.0, 'First Owner', 3, 200.0, 'Bajaj'), ('Suzuki Gixxer SF 150cc', 48000, 'Mumbai', 24725.0, 'First Owner', 5, 150.0, 'Suzuki'), ('Hero Splendor iSmart Plus IBS 110cc', 46500, 'Delhi', 3500.0, 'First Owner', 2, 110.0, 'Hero'), ('Royal Enfield Classic Chrome 500cc', 121700, 'Kalyan', 24520.0, 'First Owner', 5, 500.0, 'Royal Enfield'), ('Yamaha FZ V 2.0 150cc', 45000, 'Delhi', 23000.0, 'First Owner', 6, 150.0, 'Yamaha'), ('Bajaj Pulsar NS200', 78000, 'Bangalore', 9900.0, 'First Owner', 4, 200.0, 'Bajaj'), ('Hero Super Splendor 125cc', 20000, 'Ahmedabad', 29305.0, 'First Owner', 16, 125.0, 'Hero'), ('Honda CBF Stunner 125cc', 20800, 'Faridabad', 30500.0, 'Second Owner', 7, 125.0, 'Honda'), ('Bajaj Pulsar 150cc', 50000, 'Bangalore', 19000.0, 'First Owner', 8, 150.0, 'Bajaj'), ('Honda X-Blade 160CC ABS', 81200, 'Mettur', 9100.0, 'First Owner', 2, 160.0, 'Honda'), ('Bajaj Pulsar NS200', 88000, 'Hyderabad', 21914.0, 'First Owner', 3, 200.0, 'Bajaj'), ('Yamaha YZF-R15 2.0 150cc', 80000, 'Kaithal', 20000.0, 'Second Owner', 4, 150.0, 'Yamaha'), ('Bajaj Avenger 220cc', 40900, 'Gurgaon', 15000.0, 'First Owner', 6, 220.0, 'Bajaj'), ('KTM RC 390cc', 180000, 'Pune', 17700.0, 'First Owner', 4, 390.0, 'KTM'), ('Honda CB Unicorn 150cc', 40000, 'Noida', 30000.0, 'First Owner', 8, 150.0, 'Honda'), ('KTM Duke 200cc', 70000, 'Nashik', 100000.0, 'Second Owner', 8, 200.0, 'KTM'), ('Royal Enfield Classic 350cc', 98800, 'Kochi', 39000.0, 'First Owner', 5, 350.0, 'Royal Enfield'), ('Honda CBR 150R 150cc', 65000, 'Allahabad', 43000.0, 'First Owner', 6, 150.0, 'Honda'), ('Royal Enfield Thunderbird X 500cc', 190500, 'Samastipur', 4550.0, 'First Owner', 2, 500.0, 'Royal Enfield'), ('KTM RC 200cc ABS', 179000, 'Bangalore', 3400.0, 'First Owner', 2, 200.0, 'KTM'), ('Royal Enfield Thunderbird 350cc', 70000, 'Nadiad', 45000.0, 'First Owner', 8, 350.0, 'Royal Enfield'), ('Bajaj Avenger 220cc', 45000, 'Hyderabad', 36100.0, 'First Owner', 6, 220.0, 'Bajaj'), ('Royal Enfield Bullet Electra 350cc', 78000, 'Lucknow', 8500.0, 'First Owner', 13, 350.0, 'Royal Enfield'), ('Bajaj Avenger Street 220 ABS', 110000, 'Bangalore', 2550.0, 'First Owner', 2, 220.0, 'Bajaj'), ('Royal Enfield Classic 350cc', 85000, 'Delhi', 18000.0, 'First Owner', 6, 350.0, 'Royal Enfield'), ('Bajaj Pulsar NS200', 38000, 'Delhi', 35000.0, 'First Owner', 9, 200.0, 'Bajaj'), ('Royal Enfield Thunderbird 350cc', 55346, 'Noida', 38000.0, 'First Owner', 10, 350.0, 'Royal Enfield'), ('Mahindra Centuro NXT 110cc', 28000, 'Jaipur', 45000.0, 'First Owner', 2, 110.0, 'Mahindra'), ('Hero Hunk 150cc', 37000, 'Mumbai', 10800.0, 'First Owner', 8, 150.0, 'Hero'), ('Suzuki Gixxer SF Fi 150cc SP ABS', 97000, 'Delhi', 4400.0, 'First Owner', 3, 150.0, 'Suzuki'), ('Yamaha FZ 150cc', 40000, 'Karnal', 357000.0, 'First Owner', 8, 150.0, 'Yamaha'), ('Royal Enfield\\u200e Bullet 350cc', 90000, 'Delhi', 15300.0, 'First Owner', 7, 350.0, 'Royal Enfield'), ('TVS Apache RTR 160cc', 60000, 'Mumbai', 30000.0, 'First Owner', 5, 160.0, 'TVS'), ('Honda CB Shine 125cc', 21900, 'Gorakhpur', 30000.0, 'Second Owner', 7, 125.0, 'Honda'), ('Bajaj Avenger 220cc', 40000, 'Ahmedabad', 64000.0, 'First Owner', 7, 220.0, 'Bajaj'), ('Benelli TNT 600i ABS', 475000, 'Mumbai', 11500.0, 'Second Owner', 3, 600.0, 'Benelli'), ('Honda Dream Yuga 110cc', 34500, 'Ahmedabad', 17056.0, 'First Owner', 5, 110.0, 'Honda'), ('Yamaha SZ 150cc', 25000, 'Vidisha', 172082.0, 'First Owner', 9, 150.0, 'Yamaha'), ('Suzuki Gixxer 150cc', 30200, 'Bangalore', 45000.0, 'First Owner', 7, 150.0, 'Suzuki'), ('Bajaj Avenger Cruise 220', 65000, 'Hosur', 35000.0, 'First Owner', 5, 220.0, 'Bajaj'), ('Bajaj Pulsar 150cc', 25000, 'Mumbai', 38000.0, 'First Owner', 9, 150.0, 'Bajaj'), ('Kawasaki Z900', 935000, 'Bagalkot', 2500.0, 'First Owner', 2, 900.0, 'Kawasaki'), ('Royal Enfield Bullet Electra 350cc', 107100, 'Delhi', 15438.0, 'Second Owner', 3, 350.0, 'Royal Enfield'), ('Bajaj Pulsar 220cc', 80000, 'Delhi', 6000.0, 'First Owner', 3, 220.0, 'Bajaj'), ('Royal Enfield Thunderbird 350cc', 88000, 'Delhi', 19000.0, 'First Owner', 5, 350.0, 'Royal Enfield'), ('KTM Duke 200cc', 94700, 'Baripara', 32700.0, 'First Owner', 4, 200.0, 'KTM'), ('Hero CD Deluxe 100cc', 12200, 'Agra', 46643.0, 'First Owner', 14, 100.0, 'Hero'), ('Royal Enfield Classic 350cc', 106000, 'Delhi', 19000.0, 'First Owner', 6, 350.0, 'Royal Enfield'), ('Bajaj Pulsar 220cc', 29500, 'Hyderabad', 40700.0, 'First Owner', 12, 220.0, 'Bajaj'), ('Kawasaki Ninja 650cc', 290000, 'Dharwad', 11350.0, 'First Owner', 7, 650.0, 'Kawasaki'), ('Royal Enfield Thunderbird 350cc', 110000, 'Delhi', 1600.0, 'First Owner', 6, 350.0, 'Royal Enfield'), ('Bajaj Platina 125cc', 27000, 'Vadodara', 44410.0, 'First Owner', 10, 125.0, 'Bajaj'), ('Royal Enfield Thunderbird 350cc', 65000, 'Jalandhar', 9800.0, 'First Owner', 11, 350.0, 'Royal Enfield'), ('Royal Enfield Thunderbird X 350cc', 150000, 'Bangalore', 15000.0, 'First Owner', 3, 350.0, 'Royal Enfield'), ('Hero Karizma ZMR 223cc', 55786, 'Surat', 68000.0, 'Second Owner', 7, 223.0, 'Hero'), ('Bajaj Pulsar 180cc', 45000, 'Bangalore', 17757.0, 'First Owner', 8, 180.0, 'Bajaj'), ('Yamaha FZ25 ABS 250cc', 146000, 'Chennai', 3900.0, 'First Owner', 2, 250.0, 'Yamaha'), ('Royal Enfield Thunderbird 350cc', 115000, 'Bangalore', 23700.0, 'First Owner', 4, 350.0, 'Royal Enfield'), ('Bajaj CT 100 100cc', 30000, 'Noida', 8250.0, 'First Owner', 3, 100.0, 'Bajaj'), ('Bajaj Pulsar RS200 ABS', 93100, 'Mumbai', 10000.0, 'First Owner', 5, 200.0, 'Bajaj'), ('Yamaha YZF-R15 2.0 150cc', 82000, 'Mumbai', 4300.0, 'Second Owner', 3, 150.0, 'Yamaha'), ('Royal Enfield Interceptor 650cc', 260000, 'Navi Mumbai', 3800.0, 'First Owner', 2, 650.0, 'Royal Enfield'), ('Honda CB Shine 125cc', 38000, 'Bangalore', 33000.0, 'First Owner', 7, 125.0, 'Honda'), ('KTM Duke 250cc', 130000, 'Gandhidham', 17500.0, 'Second Owner', 4, 250.0, 'KTM'), ('Royal Enfield Himalayan 410cc', 118000, 'Gurgaon', 19000.0, 'First Owner', 4, 410.0, 'Royal Enfield'), ('Bajaj Pulsar 135LS', 14700, 'Delhi', 10000.0, 'First Owner', 11, 135.0, 'Bajaj'), ('Royal Enfield Thunderbird 350cc', 85000, 'Chennai', 54000.0, 'First Owner', 6, 350.0, 'Royal Enfield'), ('Bajaj Pulsar 220F', 40000, 'Mumbai', 27000.0, 'First Owner', 7, 220.0, 'Bajaj'), ('Yamaha FZ16 150cc', 50000, 'Bangalore', 19000.0, 'First Owner', 6, 150.0, 'Yamaha'), ('Royal Enfield Thunderbird 350cc', 71800, 'Mumbai', 43500.0, 'First Owner', 7, 350.0, 'Royal Enfield'), ('Royal Enfield Thunderbird 350cc', 71800, 'Mumbai', 43500.0, 'First Owner', 7, 350.0, 'Royal Enfield'), ('Bajaj Pulsar NS200', 75000, 'Bangalore', 11575.0, 'First Owner', 4, 200.0, 'Bajaj'), ('Ducati Scrambler 1100 Special', 1350000, 'Mumbai', 190.0, 'First Owner', 1, 1100.0, 'Ducati'), ('Triumph Street Triple 765', 790000, 'Mumbai', 19000.0, 'First Owner', 3, 765.0, 'Triumph'), ('Bajaj V15 150cc', 47000, 'Bangalore', 8600.0, 'First Owner', 4, 150.0, 'Bajaj'), ('Bajaj Pulsar 150cc', 60000, 'Pune', 2000.0, 'First Owner', 2, 150.0, 'Bajaj'), ('Suzuki Gixxer Fi 150cc ABS', 96700, 'Vadodara', 5100.0, 'First Owner', 1, 150.0, 'Suzuki'), ('Hero Splendor plus 100cc', 31900, 'Delhi', 9000.0, 'First Owner', 5, 100.0, 'Hero'), ('Bajaj Pulsar 150cc', 35000, 'Visakhapatnam', 44480.0, 'First Owner', 13, 150.0, 'Bajaj'), ('KTM Duke 390cc', 240000, 'Bangalore', 11000.0, 'First Owner', 3, 390.0, 'KTM'), ('Honda CBR 250R', 68000, 'Delhi', 16000.0, 'First Owner', 7, 250.0, 'Honda'), ('Bajaj Pulsar RS200', 80000, 'Bangalore', 26691.0, 'First Owner', 5, 200.0, 'Bajaj'), ('Royal Enfield Classic 350cc', 135000, 'Bangalore', 45000.0, 'First Owner', 5, 350.0, 'Royal Enfield'), ('Bajaj Pulsar 150cc', 11100, 'Pune', 12000.0, 'Third Owner', 12, 150.0, 'Bajaj'), ('Benelli TNT 600i', 480000, 'Mumbai', 14200.0, 'First Owner', 4, 600.0, 'Benelli'), ('Suzuki Gixxer 150cc SP Rear Disc', 65000, 'Thrissur', 41000.0, 'First Owner', 3, 150.0, 'Suzuki'), ('Yamaha FZ S V 2.0 150cc', 60000, 'Bangalore', 15000.0, 'First Owner', 5, 150.0, 'Yamaha'), ('Honda CBR 150R 150cc', 80000, 'Bangalore', 12314.0, 'First Owner', 4, 150.0, 'Honda'), ('Hero Splendor Plus Self Alloy 100cc', 46000, 'Delhi', 11760.0, 'First Owner', 3, 100.0, 'Hero'), ('Royal Enfield Classic 500cc', 95000, 'Bangalore', 22000.0, 'First Owner', 11, 500.0, 'Royal Enfield'), ('Hyosung GT650R', 400000, 'Delhi', 1800.0, 'First Owner', 4, 650.0, 'Hyosung'), ('Bajaj V15 150cc', 55000, 'Bangalore', 4400.0, 'First Owner', 4, 150.0, 'Bajaj'), ('Yamaha YZF-R15 S 150cc', 63000, 'Delhi', 16000.0, 'First Owner', 5, 150.0, 'Yamaha'), ('Bajaj V15 150cc', 51000, 'Faridabad', 9000.0, 'First Owner', 4, 150.0, 'Bajaj'), ('TVS Apache RTR 160 4V Disc', 69900, 'Delhi', 8700.0, 'First Owner', 3, 160.0, 'TVS'), ('Bajaj Pulsar RS200 ABS', 125000, 'Gorakhpur', 1342.0, 'First Owner', 4, 200.0, 'Bajaj'), ('Benelli TNT 300', 210000, 'Kolkata', 21000.0, 'First Owner', 6, 300.0, 'Benelli'), ('Honda CB ShineSP 125cc', 35900, 'Delhi', 19000.0, 'First Owner', 5, 125.0, 'Honda'), ('Honda CBR 250R', 67000, 'Delhi', 13000.0, 'First Owner', 9, 250.0, 'Honda'), ('Hero Passion Pro 100cc', 29339, 'Ernakulam', 12771.0, 'First Owner', 4, 100.0, 'Hero'), ('Hero Splendor Plus 100cc', 19695, 'Ernakulam', 51576.0, 'First Owner', 6, 100.0, 'Hero'), ('Hero Splendor iSmart Plus IBS 110cc', 48672, 'Ernakulam', 608.0, 'First Owner', 2, 110.0, 'Hero'), ('Honda CBR 150R 150cc', 40000, 'Mumbai', 13680.0, 'First Owner', 9, 150.0, 'Honda'), ('Yamaha YZF R6 600cc', 500000, 'Bangalore', 285.0, 'First Owner', 5, 600.0, 'Yamaha'), ('Ducati 1299 Superleggera', 800000, 'Mumbai', 3.0, 'First Owner', 3, 1299.0, 'Ducati'), ('Royal Enfield Himalayan 410cc', 110000, 'Bangalore', 24676.0, 'First Owner', 5, 410.0, 'Royal Enfield'), ('Royal Enfield Classic 350cc', 92500, 'Delhi', 11000.0, 'First Owner', 6, 350.0, 'Royal Enfield'), ('Bajaj Pulsar NS200', 57000, 'Bangalore', 28948.0, 'First Owner', 5, 200.0, 'Bajaj'), ('Royal Enfield Electra 350cc', 72500, 'Delhi', 10000.0, 'First Owner', 10, 350.0, 'Royal Enfield'), ('KTM Duke 200cc', 68000, 'Delhi', 16000.0, 'First Owner', 9, 200.0, 'KTM'), ('TVS Phoenix Disc 125cc', 21500, 'Barasat', 10500.0, 'First Owner', 5, 125.0, 'TVS'), ('TVS Apache RTR 160cc', 40000, 'Delhi', 20000.0, 'First Owner', 6, 160.0, 'TVS'), ('Royal Enfield Classic 350cc', 91000, 'Delhi', 18000.0, 'First Owner', 5, 350.0, 'Royal Enfield'), ('Harley-Davidson Street 750', 300000, 'Ghaziabad', 3500.0, 'First Owner', 6, 750.0, 'Harley-Davidson'), ('Suzuki Gixxer SF 150cc', 47000, 'Jaipur', 70000.0, 'First Owner', 6, 150.0, 'Suzuki'), ('Suzuki Gixxer 150cc', 53000, 'Bangalore', 18158.0, 'First Owner', 6, 150.0, 'Suzuki'), ('Suzuki Gixxer 150cc', 51000, 'Bangalore', 39140.0, 'First Owner', 5, 150.0, 'Suzuki'), ('Bajaj Pulsar 220F', 48000, 'Bangalore', 27776.0, 'First Owner', 8, 220.0, 'Bajaj'), ('Bajaj Pulsar 220cc', 55000, 'Bangalore', 32734.0, 'First Owner', 6, 220.0, 'Bajaj'), ('Royal Enfield Himalayan 410cc Fi ABS', 173300, 'Vadodara', 14000.0, 'First Owner', 2, 410.0, 'Royal Enfield'), ('Royal Enfield Bullet Electra 350cc', 77000, 'Delhi', 13000.0, 'First Owner', 8, 350.0, 'Royal Enfield'), ('Bajaj Pulsar NS200', 115000, 'Bangalore', 5000.0, 'First Owner', 2, 200.0, 'Bajaj'), ('Bajaj Discover 150cc', 36000, 'Hyderabad', 39500.0, 'First Owner', 7, 150.0, 'Bajaj'), ('Bajaj Avenger Street 220', 72000, 'Hyderabad', 29500.0, 'First Owner', 4, 220.0, 'Bajaj'), ('Royal Enfield Standard 350cc', 115000, 'Hyderabad', 14900.0, 'First Owner', 3, 350.0, 'Royal Enfield'), ('Honda CB Shine 125cc Disc', 65000, 'Mumbai', 2000.0, 'First Owner', 3, 125.0, 'Honda'), ('Honda CB Unicorn ABS 150cc', 99000, 'Mumbai', 4000.0, 'First Owner', 2, 150.0, 'Honda'), ('Yamaha YZF-R15 2.0 150cc', 68500, 'Delhi', 68500.0, 'Second Owner', 7, 150.0, 'Yamaha'), ('Yamaha YZF-R15 V3 150cc', 140000, 'Delhi', 2473.0, 'First Owner', 2, 150.0, 'Yamaha')]\n"
          ]
        }
      ]
    },
    {
      "cell_type": "code",
      "source": [
        "file=open('used_bike.txt', 'w')\n",
        "for tuple in y:\n",
        "  file.write(str(tuple) + ',' + '\\n')\n",
        "file.close()"
      ],
      "metadata": {
        "id": "ZVZk24g4bChZ"
      },
      "execution_count": null,
      "outputs": []
    },
    {
      "cell_type": "code",
      "source": [],
      "metadata": {
        "id": "9Zh1RrCMb1Xg"
      },
      "execution_count": null,
      "outputs": []
    },
    {
      "cell_type": "code",
      "source": [],
      "metadata": {
        "id": "hRJkCvW8b9BI"
      },
      "execution_count": null,
      "outputs": []
    }
  ]
}